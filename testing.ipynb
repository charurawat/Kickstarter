{
 "cells": [
  {
   "cell_type": "markdown",
   "metadata": {},
   "source": [
    "# Testing"
   ]
  },
  {
   "cell_type": "code",
   "execution_count": 20,
   "metadata": {},
   "outputs": [],
   "source": [
    "import unittest\n",
    "import os\n",
    "import pandas as pd\n",
    "from itertools import islice"
   ]
  },
  {
   "cell_type": "code",
   "execution_count": 23,
   "metadata": {},
   "outputs": [],
   "source": [
    "class PTestCases(unittest.TestCase):\n",
    "    \n",
    "    def test_for_file(self):\n",
    "        #read data into csv\n",
    "        csv = pd.read_csv('raw_data.csv', dtype = {'category': 'category', 'main_category': 'category', 'state': 'category'}, index_col = 0)\n",
    "        #get column headers\n",
    "        head = list(islice(csv,14))\n",
    "        #see if headers match\n",
    "        self.assertEqual(head, ['name', 'category', 'main_category', 'currency', 'deadline', 'goal', 'launched', 'pledged', 'state', 'backers', 'country', 'usd pledged', 'usd_pledged_real', 'usd_goal_real'], 'not working!')\n",
    "        #see if length matches\n",
    "        self.assertTrue(len(csv) == 378661, 'Not working')\n",
    "        \n",
    "    def test_for_filter(self):\n",
    "        #read data into csv\n",
    "        csv = pd.read_csv('raw_data.csv', dtype = {'category': 'category', 'main_category': 'category', 'state': 'category'}, index_col = 0)\n",
    "        #get column headers\n",
    "        head = list(islice(csv,14))\n",
    "        #print(head)\n",
    "        #filter by removing unnecessary rows/columns\n",
    "        data = csv.query('country == \"US\"').loc[:, ['category', 'main_category', 'deadline', 'goal', 'launched', 'pledged', 'state', 'backers']].query('state == \"successful\" or state == \"failed\"')\n",
    "        #get headers for filtered data\n",
    "        head2 = list(islice(data,10))\n",
    "        #get the removed headers\n",
    "        head3 = [x for x in head if x not in head2]\n",
    "        #check if column headers match in filtered data\n",
    "        self.assertEqual(head2, ['category', 'main_category', 'deadline', 'goal', 'launched', 'pledged', 'state', 'backers'])\n",
    "                \n",
    "        \n",
    "    def test_for_rename_categories(self):\n",
    "        csv = pd.read_csv('raw_data.csv', dtype = {'category': 'category', 'main_category': 'category', 'state': 'category'}, index_col = 0)\n",
    "        data = csv.query('country == \"US\"').loc[:, ['category', 'main_category', 'deadline', 'goal', 'launched', 'pledged', 'state', 'backers']].query('state == \"successful\" or state == \"failed\"')\n",
    "        data['state'] = data['state'].cat.remove_unused_categories().cat.rename_categories([0, 1])\n",
    "        #check if the values in the column has been renamed\n",
    "        self.assertEqual(data['state'].cat.categories.tolist(), [0, 1], 'Error!')\n",
    "        \n",
    "        \n",
    "        \n",
    "    def test_write_to_csv(self):\n",
    "        csv = pd.read_csv('raw_data.csv', dtype = {'category': 'category', 'main_category': 'category', 'state': 'category'}, index_col = 0)\n",
    "        data = csv.query('country == \"US\"').loc[:, ['category', 'main_category', 'deadline', 'goal', 'launched', 'pledged', 'state', 'backers']].query('state == \"successful\" or state == \"failed\"')\n",
    "        data['state'] = data['state'].cat.remove_unused_categories().cat.rename_categories([0, 1])\n",
    "        data = data.rename(columns={'category': 'Sub_Category', 'main_category': 'Main_Category'})\n",
    "        # convert launched and deadline to yyyymmdd format\n",
    "        data['launched'] = pd.to_datetime(data['launched']).dt.strftime('%Y%m%d')\n",
    "        data['deadline'] = pd.to_datetime(data['deadline']).dt.strftime('%Y%m%d')\n",
    "        #add columns\n",
    "        data['ratio'] = data['pledged']*100/data['goal']\n",
    "        data['launched_month'] = (pd.to_datetime(data['launched']).dt.month.astype('category'))\n",
    "        data['deadline_month'] = (pd.to_datetime(data['deadline']).dt.month.astype('category'))\n",
    "        data['launched_year'] = (pd.to_datetime(data['launched']).dt.year.astype('category'))\n",
    "        data['deadline_year'] = (pd.to_datetime(data['deadline']).dt.year.astype('category'))\n",
    "        data['days'] = (pd.to_datetime(data['deadline']).dt.date - pd.to_datetime(data['launched']).dt.date).dt.days\n",
    "        #write the data to csv\n",
    "        data.to_csv('test_data.csv')\n",
    "        \n",
    "        #check if the file exists in the directory\n",
    "        self.assertTrue((os.path.isfile('test_data.csv') == True), 'not working!')\n"
   ]
  },
  {
   "cell_type": "code",
   "execution_count": 22,
   "metadata": {},
   "outputs": [],
   "source": [
    "t1 = PTestCases()\n",
    "t1.test_for_file()\n",
    "t1.test_for_filter()\n",
    "t1.test_for_rename_categories()\n",
    "t1.test_write_to_csv()"
   ]
  }
 ],
 "metadata": {
  "kernelspec": {
   "display_name": "Python 3",
   "language": "python",
   "name": "python3"
  },
  "language_info": {
   "codemirror_mode": {
    "name": "ipython",
    "version": 3
   },
   "file_extension": ".py",
   "mimetype": "text/x-python",
   "name": "python",
   "nbconvert_exporter": "python",
   "pygments_lexer": "ipython3",
   "version": "3.6.5"
  }
 },
 "nbformat": 4,
 "nbformat_minor": 2
}
